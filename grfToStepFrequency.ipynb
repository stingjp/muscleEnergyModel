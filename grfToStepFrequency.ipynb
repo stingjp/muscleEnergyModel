{
 "cells": [
  {
   "cell_type": "markdown",
   "metadata": {},
   "source": [
    "Jon Stingel\n",
    "######This notebook is for importing GRF files for each subject and condition, and then using them to get step frequencies. Plotting step frequency for each of them. "
   ]
  },
  {
   "cell_type": "code",
   "execution_count": 1,
   "metadata": {},
   "outputs": [],
   "source": [
    "import os\n",
    "import pandas as pd\n",
    "import glob\n",
    "import math\n",
    "import numpy as np\n",
    "import matplotlib.pyplot as plt\n",
    "\n",
    "from sklearn.linear_model import LinearRegression\n",
    "from sklearn.metrics import r2_score\n",
    "import statsmodels.api as sm\n",
    "\n",
    "from sklearn.model_selection import train_test_split\n",
    "from sklearn.ensemble import RandomForestRegressor\n",
    "from sklearn.tree import DecisionTreeRegressor\n",
    "from sklearn.metrics import r2_score,mean_squared_error\n",
    "import seaborn as sns\n",
    "import scipy\n",
    "\n",
    "%matplotlib inline\n",
    "# pd.set_option('display.max_rows',None,'display.max_columns',None)"
   ]
  },
  {
   "cell_type": "code",
   "execution_count": 2,
   "metadata": {},
   "outputs": [
    {
     "name": "stdout",
     "output_type": "stream",
     "text": [
      "['welk001_welknatural_trial01grf_full.mot', 'welk001_welkexo_trial01grf_full.mot', 'welk002_welknatural_trial01grf_full.mot', 'welk002_welkexo_trial01grf_full.mot', 'welk003_welknatural_trial01grf_full.mot', 'welk003_welkexo_trial01grf_full.mot', 'welk004_welknatural_trial01grf_full.mot', 'welk004_welkexo_trial01grf_full.mot', 'welk007_welknatural_trial01grf_full.mot', 'welk007_welkexo_trial01grf_full.mot', 'welk008_welknatural_trial01grf_full.mot', 'welk008_welkexo_trial01grf_full.mot', 'welk009_welknatural_trial01grf_full.mot', 'welk009_welkexo_trial01grf_full.mot', 'welk010_welknatural_trial01grf_full.mot', 'welk010_welkexo_trial01grf_full.mot']\n"
     ]
    }
   ],
   "source": [
    "# import the experimental values\n",
    "# set paths\n",
    "repobasedir = os.getcwd()\n",
    "grffilespath = os.path.join(repobasedir,'..\\\\expfiles\\\\fullgrffiles\\\\')\n",
    "grffilelist = os.listdir(grffilespath)\n",
    "print(grffilelist)\n"
   ]
  },
  {
   "cell_type": "code",
   "execution_count": 4,
   "metadata": {},
   "outputs": [
    {
     "name": "stdout",
     "output_type": "stream",
     "text": [
      "   subjectname        condname  trialname experimentname  \\\n",
      "1      welk001  welkexo_trial0      grf_f           welk   \n",
      "0      welk001  welknatural_tr  al01grf_f           welk   \n",
      "3      welk002  welkexo_trial0      grf_f           welk   \n",
      "2      welk002  welknatural_tr  al01grf_f           welk   \n",
      "5      welk003  welkexo_trial0      grf_f           welk   \n",
      "4      welk003  welknatural_tr  al01grf_f           welk   \n",
      "7      welk004  welkexo_trial0      grf_f           welk   \n",
      "6      welk004  welknatural_tr  al01grf_f           welk   \n",
      "9      welk007  welkexo_trial0      grf_f           welk   \n",
      "8      welk007  welknatural_tr  al01grf_f           welk   \n",
      "11     welk008  welkexo_trial0      grf_f           welk   \n",
      "10     welk008  welknatural_tr  al01grf_f           welk   \n",
      "13     welk009  welkexo_trial0      grf_f           welk   \n",
      "12     welk009  welknatural_tr  al01grf_f           welk   \n",
      "15     welk010  welkexo_trial0      grf_f           welk   \n",
      "14     welk010  welknatural_tr  al01grf_f           welk   \n",
      "\n",
      "                                                 grfy  \\\n",
      "1   [[1707.305711], [1705.364], [1703.373355000000...   \n",
      "0   [[0.0], [0.0], [0.0], [0.0], [0.0], [0.0], [0....   \n",
      "3   [[0.0], [0.0], [0.0], [0.0], [0.0], [0.0], [0....   \n",
      "2   [[0.0], [0.0], [0.0], [0.0], [0.0], [0.0], [0....   \n",
      "5   [[0.0], [0.0], [0.0], [0.0], [0.0], [0.0], [0....   \n",
      "4   [[0.0], [0.0], [0.0], [0.0], [0.0], [0.0], [0....   \n",
      "7   [[0.0], [0.0], [0.0], [0.0], [0.0], [0.0], [0....   \n",
      "6   [[0.0], [0.0], [0.0], [0.0], [0.0], [0.0], [0....   \n",
      "9   [[191.229602], [188.89699299999998], [186.5062...   \n",
      "8   [[0.0], [0.0], [0.0], [0.0], [0.0], [0.0], [0....   \n",
      "11  [[1143.940212], [1141.590751], [1139.171883], ...   \n",
      "10  [[1084.796667], [1085.6084759999999], [1086.46...   \n",
      "13  [[0.0], [0.0], [0.0], [0.0], [0.0], [0.0], [0....   \n",
      "12  [[0.0], [0.0], [0.0], [0.0], [0.0], [0.0], [0....   \n",
      "15  [[381.0226], [377.684911], [374.269481], [370....   \n",
      "14  [[0.0], [0.0], [0.0], [0.0], [0.0], [0.0], [0....   \n",
      "\n",
      "                                                 time            stridefreq  \n",
      "1   [[0.0], [0.0005], [0.001], [0.0015], [0.002], ...  [1.5891571077083932]  \n",
      "0   [[0.0], [0.0005], [0.001], [0.0015], [0.002], ...  [1.5032087436025219]  \n",
      "3   [[0.0], [0.0005], [0.001], [0.0015], [0.002], ...  [1.5245946094556564]  \n",
      "2   [[0.0], [0.0005], [0.001], [0.0015], [0.002], ...   [1.430663371001746]  \n",
      "5   [[0.0], [0.0005], [0.001], [0.0015], [0.002], ...  [1.5564333726992552]  \n",
      "4   [[0.0], [0.0005], [0.001], [0.0015], [0.002], ...  [1.4120375969802972]  \n",
      "7   [[0.0], [0.0005], [0.001], [0.0015], [0.002], ...  [1.5361631371489826]  \n",
      "6   [[0.0], [0.0005], [0.001], [0.0015], [0.002], ...  [1.4446619388592863]  \n",
      "9   [[0.0], [0.0005], [0.001], [0.0015], [0.002], ...  [2.5244237577828197]  \n",
      "8   [[0.0], [0.0005], [0.001], [0.0015], [0.002], ...  [2.1545065094489306]  \n",
      "11  [[0.0], [0.0005], [0.001], [0.0015], [0.002], ...  [1.4594070581773249]  \n",
      "10  [[0.0], [0.0005], [0.001], [0.0015], [0.002], ...   [1.308982917084877]  \n",
      "13  [[0.0], [0.0005], [0.001], [0.0015], [0.002], ...  [1.6236279444178925]  \n",
      "12  [[0.0], [0.0005], [0.001], [0.0015], [0.002], ...  [1.6236279444178925]  \n",
      "15  [[0.0], [0.0005], [0.001], [0.0015], [0.002], ...  [1.4030399198262902]  \n",
      "14  [[0.0], [0.0005], [0.001], [0.0015], [0.002], ...  [1.3065064018813692]  \n"
     ]
    }
   ],
   "source": [
    "#\n",
    "templist = []\n",
    "temppeaklist = []\n",
    "tempinteglist = []\n",
    "\n",
    "for file in grffilelist:\n",
    "    # get the key things from the GRF file\n",
    "    tempsubj = file[0:7]\n",
    "    tempcond = file[8:22]\n",
    "    temptrial = file[23:-7]\n",
    "    tempexp = file[0:4]\n",
    "    tempfile = os.path.join(grffilespath,file)\n",
    "    # print(tempfile)\n",
    "    tempdata = pd.read_csv(tempfile, skiprows=6, delimiter='\\t')\n",
    "    # select the data we want\n",
    "    temptime = tempdata['time'].to_numpy().reshape(-1,1)\n",
    "    grfy = tempdata['rF_y'].to_numpy().reshape(-1,1)\n",
    "    \n",
    "    peaks, _ = scipy.signal.find_peaks(grfy.flatten())\n",
    "    timesflat = temptime.flatten()\n",
    "    times = temptime[peaks]\n",
    "    # get the number of peaks\n",
    "    numsteps = len(peaks)-1\n",
    "    starttime = temptime[peaks[0]]\n",
    "    endtime = temptime[peaks[-1]]\n",
    "    totaltime = endtime - starttime\n",
    "    stridefreq = numsteps/totaltime\n",
    "    \n",
    "    \n",
    "    \n",
    "    temp_df = pd.DataFrame({'subjectname':[tempsubj],\n",
    "                           'condname':[tempcond],\n",
    "                           'trialname':[temptrial],\n",
    "                           'experimentname':[tempexp],\n",
    "                           'grfy':[grfy],\n",
    "                            'time':[temptime],\n",
    "                           'stridefreq':[stridefreq]})\n",
    "    \n",
    "    templist.append(temp_df)\n",
    "    \n",
    "# end\n",
    "\n",
    "# combine all the dataframes\n",
    "stride_df = pd.concat(templist, ignore_index=True)\n",
    "stride_df.sort_values(by=['subjectname','condname'],inplace=True)\n",
    "print(stride_df)\n",
    "\n",
    "    \n",
    "    \n"
   ]
  },
  {
   "cell_type": "code",
   "execution_count": 5,
   "metadata": {},
   "outputs": [],
   "source": [
    "# print(len(grfy))\n",
    "# print(len(testtime))\n",
    "# print(grfy.shape)\n",
    "# # grfyreshape = grfy.reshape([1,len(grfy)])\n",
    "# # print(grfyreshape.shape)\n",
    "# print(grfy.flatten().shape)\n",
    "# testpeaks, _ = scipy.signal.find_peaks(grfy.flatten())\n",
    "# plt.plot(grfy.flatten())\n",
    "# plt.plot(testpeaks, grfy.flatten()[testpeaks],'x')\n",
    "# plt.plot(temptime.flatten())\n",
    "# plt.plot(testpeaks, temptime[testpeaks],'o')\n",
    "# plt.show()\n",
    "# temptime.flatten()[testpeaks]\n",
    "# numsteps = len(testpeaks)\n",
    "# print(numsteps)\n",
    "# testpeaks"
   ]
  },
  {
   "cell_type": "code",
   "execution_count": null,
   "metadata": {},
   "outputs": [],
   "source": [
    "# figure out how to plot stride frequencies (percents or just each one)\n",
    "# gotta be percents sincea everyone is different\n"
   ]
  },
  {
   "cell_type": "code",
   "execution_count": null,
   "metadata": {},
   "outputs": [],
   "source": []
  },
  {
   "cell_type": "code",
   "execution_count": null,
   "metadata": {},
   "outputs": [],
   "source": []
  },
  {
   "cell_type": "code",
   "execution_count": null,
   "metadata": {},
   "outputs": [],
   "source": []
  }
 ],
 "metadata": {
  "kernelspec": {
   "display_name": "Python 3",
   "language": "python",
   "name": "python3"
  },
  "language_info": {
   "codemirror_mode": {
    "name": "ipython",
    "version": 3
   },
   "file_extension": ".py",
   "mimetype": "text/x-python",
   "name": "python",
   "nbconvert_exporter": "python",
   "pygments_lexer": "ipython3",
   "version": "3.7.3"
  }
 },
 "nbformat": 4,
 "nbformat_minor": 2
}
